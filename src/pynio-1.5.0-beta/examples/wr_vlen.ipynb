{
 "metadata": {
  "name": ""
 },
 "nbformat": 3,
 "nbformat_minor": 0,
 "worksheets": [
  {
   "cells": [
    {
     "cell_type": "heading",
     "level": 1,
     "metadata": {},
     "source": [
      "Write/Read NetCDF4 VLEN data"
     ]
    },
    {
     "cell_type": "heading",
     "level": 2,
     "metadata": {},
     "source": [
      "import library"
     ]
    },
    {
     "cell_type": "code",
     "collapsed": false,
     "input": [
      "import numpy\n",
      "import Nio\n",
      "import time, os"
     ],
     "language": "python",
     "metadata": {},
     "outputs": [],
     "prompt_number": 14
    },
    {
     "cell_type": "heading",
     "level": 2,
     "metadata": {},
     "source": [
      "Option to create a NetCDF4 file"
     ]
    },
    {
     "cell_type": "code",
     "collapsed": false,
     "input": [
      "opt = Nio.options()\n",
      "opt.Format = 'NetCDF4'\n",
      "\n",
      "print opt.Format"
     ],
     "language": "python",
     "metadata": {},
     "outputs": [
      {
       "output_type": "stream",
       "stream": "stdout",
       "text": [
        "NetCDF4\n"
       ]
      }
     ],
     "prompt_number": 15
    },
    {
     "cell_type": "heading",
     "level": 2,
     "metadata": {},
     "source": [
      "Create the file"
     ]
    },
    {
     "cell_type": "code",
     "collapsed": false,
     "input": [
      "#create a file\n",
      "hatt = \"Created at \" + time.ctime(time.time())\n",
      "fn = \"pynio_vlen.nc\"\n",
      "if(os.path.isfile(fn)):\n",
      "    os.remove(fn)\n",
      "file = Nio.open_file(fn, options=opt, history=hatt, mode=\"w\")"
     ],
     "language": "python",
     "metadata": {},
     "outputs": [],
     "prompt_number": 16
    },
    {
     "cell_type": "heading",
     "level": 2,
     "metadata": {},
     "source": [
      "File global attributes"
     ]
    },
    {
     "cell_type": "code",
     "collapsed": false,
     "input": [
      "#create global attributes\n",
      "file.source   = \"Nio created NetCDF4 vlen file\"\n",
      "#setattr(file, 'source', \"Nio test NetCDF file\")\n",
      "file.history = \"Created \" + time.ctime(time.time())\n",
      "\n",
      "print \"file after add attributes:\"\n",
      "print file"
     ],
     "language": "python",
     "metadata": {},
     "outputs": [
      {
       "output_type": "stream",
       "stream": "stdout",
       "text": [
        "file after add attributes:\n",
        "Nio file:\tpynio_vlen.nc\n",
        "      history : Created Mon May 12 07:22:11 2014\n",
        "      source : Nio created NetCDF4 vlen file\n",
        "   dimensions:\n",
        "   variables:\n",
        "\n"
       ]
      }
     ],
     "prompt_number": 17
    },
    {
     "cell_type": "heading",
     "level": 2,
     "metadata": {},
     "source": [
      "Define dimensions"
     ]
    },
    {
     "cell_type": "code",
     "collapsed": false,
     "input": [
      "nx = 3\n",
      "ny = 4\n",
      "\n",
      "x = file.create_dimension('x', nx)\n",
      "y = file.create_dimension('y', ny)\n",
      "\n",
      "print \"file after add dimensions:\"\n",
      "print file"
     ],
     "language": "python",
     "metadata": {},
     "outputs": [
      {
       "output_type": "stream",
       "stream": "stdout",
       "text": [
        "file after add dimensions:\n",
        "Nio file:\tpynio_vlen.nc\n",
        "      history : Created Mon May 12 07:22:11 2014\n",
        "      source : Nio created NetCDF4 vlen file\n",
        "   dimensions:\n",
        "      x = 3\n",
        "      y = 4\n",
        "   variables:\n",
        "\n"
       ]
      }
     ],
     "prompt_number": 18
    },
    {
     "cell_type": "heading",
     "level": 2,
     "metadata": {},
     "source": [
      "Define VLEN data with numpy"
     ]
    },
    {
     "cell_type": "code",
     "collapsed": false,
     "input": [
      "data = numpy.empty(ny*nx, object)\n",
      "m = 0\n",
      "for n in range(ny*nx):\n",
      "    m += 1\n",
      "    data[n] = numpy.arange(m, dtype='int32')+1\n",
      "data = numpy.reshape(data,(ny, nx))\n",
      "\n",
      "print \"data\", data"
     ],
     "language": "python",
     "metadata": {},
     "outputs": [
      {
       "output_type": "stream",
       "stream": "stdout",
       "text": [
        "data [[array([1], dtype=int32) array([1, 2], dtype=int32)\n",
        "  array([1, 2, 3], dtype=int32)]\n",
        " [array([1, 2, 3, 4], dtype=int32) array([1, 2, 3, 4, 5], dtype=int32)\n",
        "  array([1, 2, 3, 4, 5, 6], dtype=int32)]\n",
        " [array([1, 2, 3, 4, 5, 6, 7], dtype=int32)\n",
        "  array([1, 2, 3, 4, 5, 6, 7, 8], dtype=int32)\n",
        "  array([1, 2, 3, 4, 5, 6, 7, 8, 9], dtype=int32)]\n",
        " [array([ 1,  2,  3,  4,  5,  6,  7,  8,  9, 10], dtype=int32)\n",
        "  array([ 1,  2,  3,  4,  5,  6,  7,  8,  9, 10, 11], dtype=int32)\n",
        "  array([ 1,  2,  3,  4,  5,  6,  7,  8,  9, 10, 11, 12], dtype=int32)]]\n"
       ]
      }
     ],
     "prompt_number": 19
    },
    {
     "cell_type": "heading",
     "level": 2,
     "metadata": {},
     "source": [
      "Define VLEN in NetCDF4 file, and write it"
     ]
    },
    {
     "cell_type": "code",
     "collapsed": false,
     "input": [
      "vlvar = file.create_vlen('vlen_var', 'i', ('y','x'))\n",
      "#vlvar[:, :] = data\n",
      "vlvar[:] = data\n",
      "\n",
      "print \"file after add vlen:\"\n",
      "print file\n",
      "\n",
      "#print vlvar\n",
      "#print 'vlen variable =\\n',vlvar[:]\n",
      "#print file\n",
      "#print file.variables['phony_vlen_var']\n",
      "#print file.vltypes['phony_vlen']"
     ],
     "language": "python",
     "metadata": {},
     "outputs": [
      {
       "output_type": "stream",
       "stream": "stdout",
       "text": [
        "file after add vlen:\n",
        "Nio file:\tpynio_vlen.nc\n",
        "      history : Created Mon May 12 07:22:11 2014\n",
        "      source : Nio created NetCDF4 vlen file\n",
        "   dimensions:\n",
        "      x = 3\n",
        "      y = 4\n",
        "   variables:\n",
        "   list vlen_var [ y|4, x|3 ]\t \n",
        "\n",
        "\n"
       ]
      }
     ],
     "prompt_number": 20
    },
    {
     "cell_type": "heading",
     "level": 2,
     "metadata": {},
     "source": [
      "Close the file"
     ]
    },
    {
     "cell_type": "code",
     "collapsed": false,
     "input": [
      "file.close()"
     ],
     "language": "python",
     "metadata": {},
     "outputs": [],
     "prompt_number": 21
    },
    {
     "cell_type": "code",
     "collapsed": false,
     "input": [
      "(Re)Open the file for reading"
     ],
     "language": "python",
     "metadata": {},
     "outputs": [
      {
       "ename": "SyntaxError",
       "evalue": "invalid syntax (<ipython-input-22-5f7cf9db6ed0>, line 1)",
       "output_type": "pyerr",
       "traceback": [
        "\u001b[0;36m  File \u001b[0;32m\"<ipython-input-22-5f7cf9db6ed0>\"\u001b[0;36m, line \u001b[0;32m1\u001b[0m\n\u001b[0;31m    (Re)Open the file for reading\u001b[0m\n\u001b[0m           ^\u001b[0m\n\u001b[0;31mSyntaxError\u001b[0m\u001b[0;31m:\u001b[0m invalid syntax\n"
       ]
      }
     ],
     "prompt_number": 22
    },
    {
     "cell_type": "code",
     "collapsed": false,
     "input": [
      "#open a file\n",
      "#fn = \"examples/vlen.nc\"\n",
      "fn = \"pynio_vlen.nc\"\n",
      "file = Nio.open_file(fn, \"r\")\n",
      "\n",
      "print \"file:\"\n",
      "print file"
     ],
     "language": "python",
     "metadata": {},
     "outputs": [
      {
       "output_type": "stream",
       "stream": "stdout",
       "text": [
        "file:\n",
        "Nio file:\tpynio_vlen.nc\n",
        "      history : Created Mon May 12 07:22:11 2014\n",
        "      source : Nio created NetCDF4 vlen file\n",
        "   dimensions:\n",
        "      x = 3\n",
        "      y = 4\n",
        "   variables:\n",
        "   list vlen_var [ y|4, x|3 ]\t \n",
        "\n",
        "\n"
       ]
      }
     ],
     "prompt_number": 23
    },
    {
     "cell_type": "heading",
     "level": 2,
     "metadata": {},
     "source": [
      "Read and print the VLEN variable"
     ]
    },
    {
     "cell_type": "code",
     "collapsed": false,
     "input": [
      "var = file.variables['vlen_var'][:]\n",
      "\n",
      "print \"var:\"\n",
      "print var"
     ],
     "language": "python",
     "metadata": {},
     "outputs": [
      {
       "output_type": "stream",
       "stream": "stdout",
       "text": [
        "var:\n",
        "[[array([1], dtype=int32) array([1, 2], dtype=int32)\n",
        "  array([1, 2, 3], dtype=int32)]\n",
        " [array([1, 2, 3, 4], dtype=int32) array([1, 2, 3, 4, 5], dtype=int32)\n",
        "  array([1, 2, 3, 4, 5, 6], dtype=int32)]\n",
        " [array([1, 2, 3, 4, 5, 6, 7], dtype=int32)\n",
        "  array([1, 2, 3, 4, 5, 6, 7, 8], dtype=int32)\n",
        "  array([1, 2, 3, 4, 5, 6, 7, 8, 9], dtype=int32)]\n",
        " [array([ 1,  2,  3,  4,  5,  6,  7,  8,  9, 10], dtype=int32)\n",
        "  array([ 1,  2,  3,  4,  5,  6,  7,  8,  9, 10, 11], dtype=int32)\n",
        "  array([ 1,  2,  3,  4,  5,  6,  7,  8,  9, 10, 11, 12], dtype=int32)]]\n"
       ]
      }
     ],
     "prompt_number": 24
    },
    {
     "cell_type": "heading",
     "level": 2,
     "metadata": {},
     "source": [
      "Close file"
     ]
    },
    {
     "cell_type": "code",
     "collapsed": false,
     "input": [
      "file.close()"
     ],
     "language": "python",
     "metadata": {},
     "outputs": [],
     "prompt_number": 25
    },
    {
     "cell_type": "code",
     "collapsed": false,
     "input": [],
     "language": "python",
     "metadata": {},
     "outputs": []
    }
   ],
   "metadata": {}
  }
 ]
}